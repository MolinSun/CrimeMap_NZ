{
 "cells": [
  {
   "cell_type": "code",
   "execution_count": null,
   "id": "5e132161",
   "metadata": {},
   "outputs": [],
   "source": [
    "import pandas as pd\n",
    "import os"
   ]
  },
  {
   "cell_type": "code",
   "execution_count": null,
   "id": "3b1c7273",
   "metadata": {},
   "outputs": [],
   "source": [
    "df_all = pd.read_csv(\"/Users/momoko/Desktop/NZ_Crime/Data/Final_Data/Marlborough.csv\")\n",
    "df_all = df_all[~df_all['Year Month'].str.contains('2023')]\n",
    "df_all = df_all[~df_all['Year Month'].str.contains('2019')]\n",
    "df_all = df_all[[\"Area Unit\", \"ANZSOC Division\", \"Year Month\", \"Region\",\"Victimisations\"]]\n",
    "df_all.index = range(len(df_all))\n",
    "df_all"
   ]
  },
  {
   "cell_type": "code",
   "execution_count": null,
   "id": "4d4e6d3a",
   "metadata": {},
   "outputs": [],
   "source": [
    "df_all['Year'] = df_all['Year Month'].str[:4]\n",
    "df_all['Month'] = df_all['Year Month'].str[5:7]\n",
    "df_all = df_all[[\"Area Unit\", \"ANZSOC Division\", \"Year\", \"Region\",\"Victimisations\"]]\n",
    "df_all"
   ]
  },
  {
   "cell_type": "code",
   "execution_count": null,
   "id": "937305f0",
   "metadata": {},
   "outputs": [],
   "source": [
    "df = pd.read_csv(\"/Users/momoko/Desktop/NZ_Crime/Data/2023_data/Marlborough.csv\", sep=\"\\t\", encoding=\"utf-16\")\n",
    "df.index = range(len(df))\n",
    "df['Year'] = df['Year Month'].str[5:]\n",
    "df['Month'] = df['Year Month'].str[2:4]\n",
    "df = df[[\"Area Unit\", \"ANZSOC Division\", \"Year\", \"Region\",\"Victimisations\"]]\n",
    "df"
   ]
  },
  {
   "cell_type": "code",
   "execution_count": null,
   "id": "984576ef",
   "metadata": {},
   "outputs": [],
   "source": [
    "final = pd.concat([df, df_all], ignore_index=True)\n",
    "final"
   ]
  },
  {
   "cell_type": "code",
   "execution_count": null,
   "id": "f3dd9b75",
   "metadata": {},
   "outputs": [],
   "source": [
    "final.to_csv(\"/Users/momoko/Desktop/NZ_Crime/Data/F_Data/Marlborough.csv\")\n",
    "\n"
   ]
  },
  {
   "cell_type": "code",
   "execution_count": null,
   "id": "ca430dff",
   "metadata": {},
   "outputs": [],
   "source": []
  },
  {
   "cell_type": "code",
   "execution_count": null,
   "id": "b60d6134",
   "metadata": {},
   "outputs": [],
   "source": []
  }
 ],
 "metadata": {
  "kernelspec": {
   "display_name": "Python 3 (ipykernel)",
   "language": "python",
   "name": "python3"
  },
  "language_info": {
   "codemirror_mode": {
    "name": "ipython",
    "version": 3
   },
   "file_extension": ".py",
   "mimetype": "text/x-python",
   "name": "python",
   "nbconvert_exporter": "python",
   "pygments_lexer": "ipython3",
   "version": "3.9.7"
  }
 },
 "nbformat": 4,
 "nbformat_minor": 5
}
