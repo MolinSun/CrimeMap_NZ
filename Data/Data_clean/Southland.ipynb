{
 "cells": [
  {
   "cell_type": "code",
   "execution_count": null,
   "id": "9d18b62c",
   "metadata": {},
   "outputs": [],
   "source": [
    "import pandas as pd\n",
    "import os"
   ]
  },
  {
   "cell_type": "code",
   "execution_count": null,
   "id": "47ddb51b",
   "metadata": {},
   "outputs": [],
   "source": [
    "df_all = pd.read_csv(\"/Users/momoko/Desktop/NZ_Crime/Data/Final_Data/Southland.csv\")\n",
    "df_all = df_all[~df_all['Year Month'].str.contains('2023')]\n",
    "df_all = df_all[~df_all['Year Month'].str.contains('2019')]\n",
    "df_all = df_all[[\"Area Unit\", \"ANZSOC Division\", \"Year Month\", \"Region\",\"Victimisations\"]]\n",
    "df_all.index = range(len(df_all))\n",
    "df_all"
   ]
  },
  {
   "cell_type": "code",
   "execution_count": null,
   "id": "bc3f89ce",
   "metadata": {},
   "outputs": [],
   "source": [
    "df_all['Year'] = df_all['Year Month'].str[:4]\n",
    "df_all['Month'] = df_all['Year Month'].str[5:7]\n",
    "df_all = df_all[[\"Area Unit\", \"ANZSOC Division\", \"Year\", \"Region\",\"Victimisations\"]]\n",
    "df_all"
   ]
  },
  {
   "cell_type": "code",
   "execution_count": null,
   "id": "45306db1",
   "metadata": {},
   "outputs": [],
   "source": [
    "df = pd.read_csv(\"/Users/momoko/Desktop/NZ_Crime/Data/2023_data/Southland.csv\", sep=\"\\t\", encoding=\"utf-16\")\n",
    "df = df[[\"Area Unit\", \"ANZSOC Division\", \"Year Month\", \"Region\",\"Victimisations\"]]\n",
    "df.index = range(len(df))\n",
    "df['Year'] = df['Year Month'].str[5:]\n",
    "df['Month'] = df['Year Month'].str[2:4]\n",
    "\n",
    "df"
   ]
  }
 ],
 "metadata": {
  "kernelspec": {
   "display_name": "Python 3 (ipykernel)",
   "language": "python",
   "name": "python3"
  },
  "language_info": {
   "codemirror_mode": {
    "name": "ipython",
    "version": 3
   },
   "file_extension": ".py",
   "mimetype": "text/x-python",
   "name": "python",
   "nbconvert_exporter": "python",
   "pygments_lexer": "ipython3",
   "version": "3.9.7"
  }
 },
 "nbformat": 4,
 "nbformat_minor": 5
}
